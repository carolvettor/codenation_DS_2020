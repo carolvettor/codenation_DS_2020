{
 "cells": [
  {
   "cell_type": "code",
   "execution_count": 6,
   "metadata": {},
   "outputs": [],
   "source": [
    "import numpy as np\n",
    "import pandas as pd\n",
    "\n",
    "import seaborn as sns\n",
    "\n",
    "from sklearn import linear_model\n",
    "from sklearn.preprocessing import StandardScaler, MinMaxScaler\n",
    "from sklearn.model_selection import train_test_split\n",
    "from sklearn.metrics import mean_squared_error, r2_score\n",
    "from sklearn.neural_network import MLPRegressor\n",
    "\n",
    "import matplotlib.pyplot as plt"
   ]
  },
  {
   "cell_type": "code",
   "execution_count": 7,
   "metadata": {},
   "outputs": [],
   "source": [
    "train = pd.read_csv('train.csv')\n",
    "test = pd.read_csv('test.csv')\n",
    "\n",
    "# Replace NaN with 0\n",
    "train.replace(np.nan, 0, regex=True,inplace=True)\n",
    "test.replace(np.nan, 0, regex=True,inplace=True)\n",
    "\n",
    "y = train['NU_NOTA_MT']\n",
    "X = train[['NU_NOTA_CN','NU_NOTA_CH','NU_NOTA_LC']]"
   ]
  },
  {
   "cell_type": "code",
   "execution_count": 8,
   "metadata": {},
   "outputs": [
    {
     "name": "stdout",
     "output_type": "stream",
     "text": [
      "Stats of the train set\n",
      "Coefficient of determination: 0.91574425\n"
     ]
    }
   ],
   "source": [
    "regr1 = MLPRegressor(random_state=1, max_iter=500).fit(X, y)\n",
    "\n",
    "print('Stats of the train set')\n",
    "print('Coefficient of determination: %.8f'\n",
    "      % regr1.score(X, y))"
   ]
  },
  {
   "cell_type": "code",
   "execution_count": 9,
   "metadata": {},
   "outputs": [
    {
     "name": "stdout",
     "output_type": "stream",
     "text": [
      "Stats of the train set\n",
      "Coefficient of determination: 0.91743071\n"
     ]
    }
   ],
   "source": [
    "regr2 = MLPRegressor(random_state=1, max_iter=500,hidden_layer_sizes=(6,6),learning_rate='adaptive').fit(X, y)\n",
    "\n",
    "print('Stats of the train set')\n",
    "print('Coefficient of determination: %.8f'\n",
    "      % regr2.score(X, y))"
   ]
  },
  {
   "cell_type": "code",
   "execution_count": 10,
   "metadata": {},
   "outputs": [],
   "source": [
    "X_test = test[['NU_NOTA_CN','NU_NOTA_CH','NU_NOTA_LC']]\n",
    "\n",
    "y_pred = regr2.predict(X_test)\n",
    "y_pred = [0.0 if item < 0 else item for item in y_pred]\n",
    "\n",
    "test['NU_NOTA_MT'] = y_pred\n",
    "    \n",
    "test.to_csv(\"answer.csv\", mode='w', columns=['NU_INSCRICAO','NU_NOTA_MT'], index = False)"
   ]
  }
 ],
 "metadata": {
  "kernelspec": {
   "display_name": "Python 3",
   "language": "python",
   "name": "python3"
  },
  "language_info": {
   "codemirror_mode": {
    "name": "ipython",
    "version": 3
   },
   "file_extension": ".py",
   "mimetype": "text/x-python",
   "name": "python",
   "nbconvert_exporter": "python",
   "pygments_lexer": "ipython3",
   "version": "3.7.4"
  }
 },
 "nbformat": 4,
 "nbformat_minor": 4
}
