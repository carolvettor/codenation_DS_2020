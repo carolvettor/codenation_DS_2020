{
 "cells": [
  {
   "cell_type": "code",
   "execution_count": 25,
   "metadata": {},
   "outputs": [],
   "source": [
    "import numpy as np\n",
    "import pandas as pd\n",
    "\n",
    "import seaborn as sns\n",
    "\n",
    "from sklearn import linear_model\n",
    "from sklearn.preprocessing import StandardScaler, MinMaxScaler\n",
    "from sklearn.model_selection import train_test_split\n",
    "from sklearn.metrics import mean_squared_error, r2_score\n",
    "from sklearn.neural_network import MLPRegressor\n",
    "\n",
    "\n",
    "import matplotlib.pyplot as plt"
   ]
  },
  {
   "cell_type": "code",
   "execution_count": 7,
   "metadata": {},
   "outputs": [],
   "source": [
    "train = pd.read_csv('train.csv')\n",
    "test = pd.read_csv('test.csv')\n",
    "\n",
    "# Replace NaN with 0\n",
    "train.replace(np.nan, 0, regex=True,inplace=True)\n",
    "test.replace(np.nan, 0, regex=True,inplace=True)\n",
    "\n",
    "y = train['NU_NOTA_MT']\n",
    "X = train[['NU_NOTA_CN','NU_NOTA_CH','NU_NOTA_LC']]\n",
    "\n",
    "# X_test = test[['NU_NOTA_CN','NU_NOTA_CH','NU_NOTA_LC']]\n",
    "\n",
    "# Create linear regression object\n",
    "lin_regr = linear_model.LinearRegression()"
   ]
  },
  {
   "cell_type": "code",
   "execution_count": 27,
   "metadata": {},
   "outputs": [],
   "source": [
    "# Split the data into training/testing sets\n",
    "X_train, X_test, y_train, y_test = train_test_split(X, y, test_size=0.2, random_state=0)\n",
    "\n",
    "scaler = StandardScaler()\n",
    "\n",
    "X_train = scaler.fit_transform(X_train)\n",
    "X_test = scaler.transform(X_test)"
   ]
  },
  {
   "cell_type": "code",
   "execution_count": 28,
   "metadata": {},
   "outputs": [
    {
     "name": "stdout",
     "output_type": "stream",
     "text": [
      "Stats of the train set\n",
      "Mean squared error: 5180.23\n",
      "Coefficient of determination: 0.90\n",
      "\n",
      " Stats of the test set\n",
      "Mean squared error: 5180.36\n",
      "Coefficient of determination: 0.90\n"
     ]
    }
   ],
   "source": [
    "# Train the model using the training sets\n",
    "lin_regr.fit(X_train, y_train)\n",
    "\n",
    "y_pred_train = lin_regr.predict(X_train)\n",
    "# Make predictions using the testing set\n",
    "y_pred_test = lin_regr.predict(X_test)\n",
    "\n",
    "# y_pred = [0.0 if item < 0 else item for item in y_pred]\n",
    "\n",
    "# test['NU_NOTA_MT'] = y_pred\n",
    "    \n",
    "# test.to_csv(\"resultado.csv\", mode='w', columns=['NU_INSCRICAO','NU_NOTA_MT'], index = False)\n",
    "\n",
    "# The coefficients\n",
    "#print('Coefficients: \\n', lin_regr.coef_)\n",
    "\n",
    "print('Stats of the train set')\n",
    "# The mean squared error\n",
    "print('Mean squared error: %.2f'\n",
    "      % mean_squared_error(y_train, y_pred_train))\n",
    "# # The coefficient of determination: 1 is perfect prediction\n",
    "print('Coefficient of determination: %.2f'\n",
    "      % r2_score(y_train, y_pred_train))\n",
    "\n",
    "print('\\n Stats of the test set')\n",
    "# The mean squared error\n",
    "print('Mean squared error: %.2f'\n",
    "      % mean_squared_error(y_test, y_pred_test))\n",
    "# # The coefficient of determination: 1 is perfect prediction\n",
    "print('Coefficient of determination: %.2f'\n",
    "      % r2_score(y_test, y_pred_test))"
   ]
  },
  {
   "cell_type": "code",
   "execution_count": 29,
   "metadata": {},
   "outputs": [
    {
     "name": "stdout",
     "output_type": "stream",
     "text": [
      "Stats of the train set\n",
      "Coefficient of determination: 0.92\n",
      "\n",
      " Stats of the test set\n",
      "Coefficient of determination: 0.92\n"
     ]
    }
   ],
   "source": [
    "# Teste com split train e test \n",
    "regr = MLPRegressor(random_state=1, max_iter=500).fit(X_train, y_train)\n",
    "y_pred_train = regr.predict(X_train)\n",
    "y_pred_test = regr.predict(X_test)\n",
    "\n",
    "print('Stats of the train set')\n",
    "print('Coefficient of determination: %.2f'\n",
    "      % regr.score(X_test, y_test))\n",
    "\n",
    "print('\\n Stats of the test set')\n",
    "print('Coefficient of determination: %.2f'\n",
    "      % regr.score(X_test, y_test))"
   ]
  },
  {
   "cell_type": "code",
   "execution_count": 46,
   "metadata": {},
   "outputs": [
    {
     "name": "stdout",
     "output_type": "stream",
     "text": [
      "Stats of the train set\n",
      "Coefficient of determination: 0.91574425\n"
     ]
    }
   ],
   "source": [
    "# Teste a vera\n",
    "train = pd.read_csv('train.csv')\n",
    "test = pd.read_csv('test.csv')\n",
    "\n",
    "# Replace NaN with 0\n",
    "train.replace(np.nan, 0, regex=True,inplace=True)\n",
    "test.replace(np.nan, 0, regex=True,inplace=True)\n",
    "\n",
    "y = train['NU_NOTA_MT']\n",
    "X = train[['NU_NOTA_CN','NU_NOTA_CH','NU_NOTA_LC']]\n",
    "\n",
    "\n",
    "\n",
    "regr = MLPRegressor(random_state=1, max_iter=500).fit(X, y)\n",
    "\n",
    "\n",
    "# y_test = regr.predict(X)\n",
    "\n",
    "print('Stats of the train set')\n",
    "print('Coefficient of determination: %.8f'\n",
    "      % regr.score(X, y))"
   ]
  },
  {
   "cell_type": "code",
   "execution_count": 52,
   "metadata": {},
   "outputs": [
    {
     "name": "stdout",
     "output_type": "stream",
     "text": [
      "Stats of the train set\n",
      "Coefficient of determination: 0.91743071\n"
     ]
    }
   ],
   "source": [
    "regr = MLPRegressor(random_state=1, max_iter=500,hidden_layer_sizes=(6,6),learning_rate='adaptive').fit(X, y)\n",
    "\n",
    "print('Stats of the train set')\n",
    "print('Coefficient of determination: %.8f'\n",
    "      % regr.score(X, y))"
   ]
  },
  {
   "cell_type": "code",
   "execution_count": 53,
   "metadata": {},
   "outputs": [],
   "source": [
    "X_test = test[['NU_NOTA_CN','NU_NOTA_CH','NU_NOTA_LC']]\n",
    "y_pred = regr.predict(X_test)\n",
    "y_pred = [0.0 if item < 0 else item for item in y_pred]\n",
    "\n",
    "test['NU_NOTA_MT'] = y_pred\n",
    "    \n",
    "test.to_csv(\"resultado.csv\", mode='w', columns=['NU_INSCRICAO','NU_NOTA_MT'], index = False)"
   ]
  },
  {
   "cell_type": "code",
   "execution_count": 12,
   "metadata": {},
   "outputs": [
    {
     "data": {
      "text/html": [
       "<div>\n",
       "<style scoped>\n",
       "    .dataframe tbody tr th:only-of-type {\n",
       "        vertical-align: middle;\n",
       "    }\n",
       "\n",
       "    .dataframe tbody tr th {\n",
       "        vertical-align: top;\n",
       "    }\n",
       "\n",
       "    .dataframe thead th {\n",
       "        text-align: right;\n",
       "    }\n",
       "</style>\n",
       "<table border=\"1\" class=\"dataframe\">\n",
       "  <thead>\n",
       "    <tr style=\"text-align: right;\">\n",
       "      <th></th>\n",
       "      <th>NU_INSCRICAO</th>\n",
       "      <th>CO_UF_RESIDENCIA</th>\n",
       "      <th>SG_UF_RESIDENCIA</th>\n",
       "      <th>NU_IDADE</th>\n",
       "      <th>TP_SEXO</th>\n",
       "      <th>TP_COR_RACA</th>\n",
       "      <th>TP_NACIONALIDADE</th>\n",
       "      <th>TP_ST_CONCLUSAO</th>\n",
       "      <th>TP_ANO_CONCLUIU</th>\n",
       "      <th>TP_ESCOLA</th>\n",
       "      <th>...</th>\n",
       "      <th>NU_NOTA_REDACAO</th>\n",
       "      <th>Q001</th>\n",
       "      <th>Q002</th>\n",
       "      <th>Q006</th>\n",
       "      <th>Q024</th>\n",
       "      <th>Q025</th>\n",
       "      <th>Q026</th>\n",
       "      <th>Q027</th>\n",
       "      <th>Q047</th>\n",
       "      <th>NU_NOTA_MT</th>\n",
       "    </tr>\n",
       "  </thead>\n",
       "  <tbody>\n",
       "    <tr>\n",
       "      <th>0</th>\n",
       "      <td>73ff9fcc02f0a99919906c942c2e1a1042cdcf98</td>\n",
       "      <td>41</td>\n",
       "      <td>PR</td>\n",
       "      <td>22</td>\n",
       "      <td>F</td>\n",
       "      <td>3</td>\n",
       "      <td>1</td>\n",
       "      <td>1</td>\n",
       "      <td>5</td>\n",
       "      <td>1</td>\n",
       "      <td>...</td>\n",
       "      <td>420.0</td>\n",
       "      <td>B</td>\n",
       "      <td>A</td>\n",
       "      <td>C</td>\n",
       "      <td>A</td>\n",
       "      <td>A</td>\n",
       "      <td>C</td>\n",
       "      <td>C</td>\n",
       "      <td>A</td>\n",
       "      <td>426.472355</td>\n",
       "    </tr>\n",
       "    <tr>\n",
       "      <th>1</th>\n",
       "      <td>71a95f9f1b91a82c65ad94abbdf9f54e6066f968</td>\n",
       "      <td>21</td>\n",
       "      <td>MA</td>\n",
       "      <td>26</td>\n",
       "      <td>F</td>\n",
       "      <td>3</td>\n",
       "      <td>1</td>\n",
       "      <td>1</td>\n",
       "      <td>8</td>\n",
       "      <td>1</td>\n",
       "      <td>...</td>\n",
       "      <td>580.0</td>\n",
       "      <td>E</td>\n",
       "      <td>B</td>\n",
       "      <td>C</td>\n",
       "      <td>B</td>\n",
       "      <td>B</td>\n",
       "      <td>B</td>\n",
       "      <td>F</td>\n",
       "      <td>A</td>\n",
       "      <td>479.615917</td>\n",
       "    </tr>\n",
       "    <tr>\n",
       "      <th>2</th>\n",
       "      <td>b38a03232f43b11c9d0788abaf060f7366053b6d</td>\n",
       "      <td>23</td>\n",
       "      <td>CE</td>\n",
       "      <td>21</td>\n",
       "      <td>M</td>\n",
       "      <td>1</td>\n",
       "      <td>1</td>\n",
       "      <td>2</td>\n",
       "      <td>0</td>\n",
       "      <td>2</td>\n",
       "      <td>...</td>\n",
       "      <td>320.0</td>\n",
       "      <td>E</td>\n",
       "      <td>E</td>\n",
       "      <td>D</td>\n",
       "      <td>B</td>\n",
       "      <td>B</td>\n",
       "      <td>A</td>\n",
       "      <td>0</td>\n",
       "      <td>A</td>\n",
       "      <td>585.506912</td>\n",
       "    </tr>\n",
       "    <tr>\n",
       "      <th>3</th>\n",
       "      <td>70b682d9a3636be23f6120fa9d6b164eb3c6002d</td>\n",
       "      <td>15</td>\n",
       "      <td>PA</td>\n",
       "      <td>27</td>\n",
       "      <td>F</td>\n",
       "      <td>3</td>\n",
       "      <td>1</td>\n",
       "      <td>1</td>\n",
       "      <td>8</td>\n",
       "      <td>1</td>\n",
       "      <td>...</td>\n",
       "      <td>0.0</td>\n",
       "      <td>H</td>\n",
       "      <td>E</td>\n",
       "      <td>G</td>\n",
       "      <td>B</td>\n",
       "      <td>B</td>\n",
       "      <td>A</td>\n",
       "      <td>0</td>\n",
       "      <td>A</td>\n",
       "      <td>0.000000</td>\n",
       "    </tr>\n",
       "    <tr>\n",
       "      <th>4</th>\n",
       "      <td>715494628a50142ce8cb17191cfe6d0f3cae0934</td>\n",
       "      <td>41</td>\n",
       "      <td>PR</td>\n",
       "      <td>18</td>\n",
       "      <td>M</td>\n",
       "      <td>1</td>\n",
       "      <td>1</td>\n",
       "      <td>2</td>\n",
       "      <td>0</td>\n",
       "      <td>2</td>\n",
       "      <td>...</td>\n",
       "      <td>320.0</td>\n",
       "      <td>D</td>\n",
       "      <td>H</td>\n",
       "      <td>H</td>\n",
       "      <td>C</td>\n",
       "      <td>B</td>\n",
       "      <td>A</td>\n",
       "      <td>0</td>\n",
       "      <td>A</td>\n",
       "      <td>568.275618</td>\n",
       "    </tr>\n",
       "    <tr>\n",
       "      <th>...</th>\n",
       "      <td>...</td>\n",
       "      <td>...</td>\n",
       "      <td>...</td>\n",
       "      <td>...</td>\n",
       "      <td>...</td>\n",
       "      <td>...</td>\n",
       "      <td>...</td>\n",
       "      <td>...</td>\n",
       "      <td>...</td>\n",
       "      <td>...</td>\n",
       "      <td>...</td>\n",
       "      <td>...</td>\n",
       "      <td>...</td>\n",
       "      <td>...</td>\n",
       "      <td>...</td>\n",
       "      <td>...</td>\n",
       "      <td>...</td>\n",
       "      <td>...</td>\n",
       "      <td>...</td>\n",
       "      <td>...</td>\n",
       "      <td>...</td>\n",
       "    </tr>\n",
       "    <tr>\n",
       "      <th>4571</th>\n",
       "      <td>dac0f22429c7f8e3931d0abaf5dfc8e5c772a48b</td>\n",
       "      <td>41</td>\n",
       "      <td>PR</td>\n",
       "      <td>17</td>\n",
       "      <td>F</td>\n",
       "      <td>1</td>\n",
       "      <td>1</td>\n",
       "      <td>2</td>\n",
       "      <td>0</td>\n",
       "      <td>2</td>\n",
       "      <td>...</td>\n",
       "      <td>500.0</td>\n",
       "      <td>E</td>\n",
       "      <td>E</td>\n",
       "      <td>D</td>\n",
       "      <td>A</td>\n",
       "      <td>B</td>\n",
       "      <td>A</td>\n",
       "      <td>0</td>\n",
       "      <td>A</td>\n",
       "      <td>448.118507</td>\n",
       "    </tr>\n",
       "    <tr>\n",
       "      <th>4572</th>\n",
       "      <td>a75fa8770257e7c9368d059fe53d9ef431f4bdef</td>\n",
       "      <td>35</td>\n",
       "      <td>SP</td>\n",
       "      <td>17</td>\n",
       "      <td>M</td>\n",
       "      <td>2</td>\n",
       "      <td>1</td>\n",
       "      <td>2</td>\n",
       "      <td>0</td>\n",
       "      <td>2</td>\n",
       "      <td>...</td>\n",
       "      <td>520.0</td>\n",
       "      <td>C</td>\n",
       "      <td>C</td>\n",
       "      <td>C</td>\n",
       "      <td>A</td>\n",
       "      <td>A</td>\n",
       "      <td>A</td>\n",
       "      <td>0</td>\n",
       "      <td>A</td>\n",
       "      <td>426.608079</td>\n",
       "    </tr>\n",
       "    <tr>\n",
       "      <th>4573</th>\n",
       "      <td>655fa6306720ff16e825903b5422a46608a77545</td>\n",
       "      <td>35</td>\n",
       "      <td>SP</td>\n",
       "      <td>19</td>\n",
       "      <td>M</td>\n",
       "      <td>1</td>\n",
       "      <td>1</td>\n",
       "      <td>1</td>\n",
       "      <td>2</td>\n",
       "      <td>1</td>\n",
       "      <td>...</td>\n",
       "      <td>640.0</td>\n",
       "      <td>D</td>\n",
       "      <td>F</td>\n",
       "      <td>D</td>\n",
       "      <td>B</td>\n",
       "      <td>B</td>\n",
       "      <td>A</td>\n",
       "      <td>0</td>\n",
       "      <td>D</td>\n",
       "      <td>592.198851</td>\n",
       "    </tr>\n",
       "    <tr>\n",
       "      <th>4574</th>\n",
       "      <td>1f4bc3e3d56212d500625bfe8ac78ccff4362293</td>\n",
       "      <td>52</td>\n",
       "      <td>GO</td>\n",
       "      <td>17</td>\n",
       "      <td>M</td>\n",
       "      <td>2</td>\n",
       "      <td>2</td>\n",
       "      <td>3</td>\n",
       "      <td>0</td>\n",
       "      <td>1</td>\n",
       "      <td>...</td>\n",
       "      <td>520.0</td>\n",
       "      <td>C</td>\n",
       "      <td>E</td>\n",
       "      <td>C</td>\n",
       "      <td>A</td>\n",
       "      <td>A</td>\n",
       "      <td>A</td>\n",
       "      <td>0</td>\n",
       "      <td>A</td>\n",
       "      <td>489.336970</td>\n",
       "    </tr>\n",
       "    <tr>\n",
       "      <th>4575</th>\n",
       "      <td>adf0d15b54317b6564ef56dad2b775bbb0ef50cc</td>\n",
       "      <td>33</td>\n",
       "      <td>RJ</td>\n",
       "      <td>30</td>\n",
       "      <td>M</td>\n",
       "      <td>1</td>\n",
       "      <td>1</td>\n",
       "      <td>1</td>\n",
       "      <td>10</td>\n",
       "      <td>1</td>\n",
       "      <td>...</td>\n",
       "      <td>0.0</td>\n",
       "      <td>C</td>\n",
       "      <td>C</td>\n",
       "      <td>A</td>\n",
       "      <td>B</td>\n",
       "      <td>B</td>\n",
       "      <td>B</td>\n",
       "      <td>B</td>\n",
       "      <td>A</td>\n",
       "      <td>0.000000</td>\n",
       "    </tr>\n",
       "  </tbody>\n",
       "</table>\n",
       "<p>4576 rows × 48 columns</p>\n",
       "</div>"
      ],
      "text/plain": [
       "                                  NU_INSCRICAO  CO_UF_RESIDENCIA  \\\n",
       "0     73ff9fcc02f0a99919906c942c2e1a1042cdcf98                41   \n",
       "1     71a95f9f1b91a82c65ad94abbdf9f54e6066f968                21   \n",
       "2     b38a03232f43b11c9d0788abaf060f7366053b6d                23   \n",
       "3     70b682d9a3636be23f6120fa9d6b164eb3c6002d                15   \n",
       "4     715494628a50142ce8cb17191cfe6d0f3cae0934                41   \n",
       "...                                        ...               ...   \n",
       "4571  dac0f22429c7f8e3931d0abaf5dfc8e5c772a48b                41   \n",
       "4572  a75fa8770257e7c9368d059fe53d9ef431f4bdef                35   \n",
       "4573  655fa6306720ff16e825903b5422a46608a77545                35   \n",
       "4574  1f4bc3e3d56212d500625bfe8ac78ccff4362293                52   \n",
       "4575  adf0d15b54317b6564ef56dad2b775bbb0ef50cc                33   \n",
       "\n",
       "     SG_UF_RESIDENCIA  NU_IDADE TP_SEXO  TP_COR_RACA  TP_NACIONALIDADE  \\\n",
       "0                  PR        22       F            3                 1   \n",
       "1                  MA        26       F            3                 1   \n",
       "2                  CE        21       M            1                 1   \n",
       "3                  PA        27       F            3                 1   \n",
       "4                  PR        18       M            1                 1   \n",
       "...               ...       ...     ...          ...               ...   \n",
       "4571               PR        17       F            1                 1   \n",
       "4572               SP        17       M            2                 1   \n",
       "4573               SP        19       M            1                 1   \n",
       "4574               GO        17       M            2                 2   \n",
       "4575               RJ        30       M            1                 1   \n",
       "\n",
       "      TP_ST_CONCLUSAO  TP_ANO_CONCLUIU  TP_ESCOLA  ...  NU_NOTA_REDACAO  Q001  \\\n",
       "0                   1                5          1  ...            420.0     B   \n",
       "1                   1                8          1  ...            580.0     E   \n",
       "2                   2                0          2  ...            320.0     E   \n",
       "3                   1                8          1  ...              0.0     H   \n",
       "4                   2                0          2  ...            320.0     D   \n",
       "...               ...              ...        ...  ...              ...   ...   \n",
       "4571                2                0          2  ...            500.0     E   \n",
       "4572                2                0          2  ...            520.0     C   \n",
       "4573                1                2          1  ...            640.0     D   \n",
       "4574                3                0          1  ...            520.0     C   \n",
       "4575                1               10          1  ...              0.0     C   \n",
       "\n",
       "      Q002  Q006  Q024  Q025  Q026  Q027  Q047  NU_NOTA_MT  \n",
       "0        A     C     A     A     C     C     A  426.472355  \n",
       "1        B     C     B     B     B     F     A  479.615917  \n",
       "2        E     D     B     B     A     0     A  585.506912  \n",
       "3        E     G     B     B     A     0     A    0.000000  \n",
       "4        H     H     C     B     A     0     A  568.275618  \n",
       "...    ...   ...   ...   ...   ...   ...   ...         ...  \n",
       "4571     E     D     A     B     A     0     A  448.118507  \n",
       "4572     C     C     A     A     A     0     A  426.608079  \n",
       "4573     F     D     B     B     A     0     D  592.198851  \n",
       "4574     E     C     A     A     A     0     A  489.336970  \n",
       "4575     C     A     B     B     B     B     A    0.000000  \n",
       "\n",
       "[4576 rows x 48 columns]"
      ]
     },
     "execution_count": 12,
     "metadata": {},
     "output_type": "execute_result"
    }
   ],
   "source": [
    "test['NU_NOTA_MT'] = y_pred\n",
    "test"
   ]
  },
  {
   "cell_type": "code",
   "execution_count": null,
   "metadata": {},
   "outputs": [],
   "source": [
    "dataset_original = pd.read_csv('testfiles/train.csv')\n",
    "dataset_test = pd.read_csv('testfiles/test.csv')\n",
    "\n",
    "ds = dataset_original[['NU_NOTA_MT','NU_NOTA_CN','NU_NOTA_CH','NU_NOTA_LC']].dropna()\n",
    "\n",
    "y = ds['NU_NOTA_MT']\n",
    "X = ds[['NU_NOTA_CN','NU_NOTA_CH','NU_NOTA_LC']]\n",
    "\n",
    "# Split the data into training/testing sets\n",
    "X_train, X_test, y_train, y_test = train_test_split(X, y, test_size=0.2, random_state=0)\n",
    "\n",
    "# scaler = MinMaxScaler()\n",
    "\n",
    "# X_train = scaler.fit_transform(X_train)\n",
    "# X_test = scaler.fit_transform(X_test)\n",
    "\n",
    "# Create linear regression object\n",
    "lin_regr = linear_model.LinearRegression()\n",
    "\n",
    "\n",
    "# Train the model using the training sets\n",
    "lin_regr.fit(X_train, y_train)\n",
    "\n",
    "# Make predictions using the testing set\n",
    "y_pred = lin_regr.predict(X_test)\n",
    "\n",
    "# The coefficients\n",
    "#print('Coefficients: \\n', lin_regr.coef_)\n",
    "# The mean squared error\n",
    "print('Mean squared error: %.2f'\n",
    "      % mean_squared_error(y_test, y_pred))\n",
    "# The coefficient of determination: 1 is perfect prediction\n",
    "print('Coefficient of determination: %.2f'\n",
    "      % r2_score(y_test, y_pred))"
   ]
  },
  {
   "cell_type": "code",
   "execution_count": 3,
   "metadata": {},
   "outputs": [],
   "source": [
    "dataset_original = pd.read_csv('testfiles/train.csv')\n",
    "\n",
    "ds = dataset_original[[\n",
    "    'NU_NOTA_MT', 'CO_UF_RESIDENCIA', 'NU_IDADE', 'TP_SEXO', 'TP_COR_RACA',\n",
    "    'TP_NACIONALIDADE', 'TP_ST_CONCLUSAO', 'TP_ANO_CONCLUIU', 'TP_ESCOLA',\n",
    "    'TP_ENSINO', 'IN_TREINEIRO', 'TP_DEPENDENCIA_ADM_ESC', 'IN_BAIXA_VISAO',\n",
    "    'IN_CEGUEIRA', 'IN_SURDEZ', 'IN_DISLEXIA', 'IN_DISCALCULIA',\n",
    "    'IN_SABATISTA', 'IN_GESTANTE', 'IN_IDOSO', 'TP_PRESENCA_CN',\n",
    "    'TP_PRESENCA_CH', 'TP_PRESENCA_LC', 'NU_NOTA_CN', 'NU_NOTA_CH',\n",
    "    'NU_NOTA_LC', 'TP_LINGUA', 'TP_STATUS_REDACAO', 'NU_NOTA_COMP1',\n",
    "    'NU_NOTA_COMP2', 'NU_NOTA_COMP3', 'NU_NOTA_COMP4', 'NU_NOTA_COMP5',\n",
    "    'NU_NOTA_REDACAO', 'Q001', 'Q002', 'Q006', 'Q024', 'Q025', 'Q026', 'Q027',\n",
    "    'Q047'\n",
    "]]"
   ]
  },
  {
   "cell_type": "code",
   "execution_count": 37,
   "metadata": {},
   "outputs": [],
   "source": [
    "# replace letters with numbers\n",
    "gender_dict = {'M': 0, 'F': 1}\n",
    "ds = ds.replace({'TP_SEXO': gender_dict})\n",
    "\n",
    "letter_num_dict = {\n",
    "    'A': 1,\n",
    "    'B': 2,\n",
    "    'C': 3,\n",
    "    'D': 4,\n",
    "    'E': 5,\n",
    "    'F': 6,\n",
    "    'G': 7,\n",
    "    'H': 8,\n",
    "    'I': 9,\n",
    "    'J': 10,\n",
    "    'K': 11,\n",
    "    'L': 12,\n",
    "    'M': 13,\n",
    "    'N': 14,\n",
    "    'O': 15,\n",
    "    'P': 16,\n",
    "    'Q': 17\n",
    "}\n",
    "ds = ds.replace(letter_num_dict)"
   ]
  },
  {
   "cell_type": "code",
   "execution_count": 38,
   "metadata": {},
   "outputs": [
    {
     "name": "stdout",
     "output_type": "stream",
     "text": [
      "NU_NOTA_MT                 73.801894\n",
      "CO_UF_RESIDENCIA          100.000000\n",
      "NU_IDADE                  100.000000\n",
      "TP_SEXO                   100.000000\n",
      "TP_COR_RACA               100.000000\n",
      "TP_NACIONALIDADE          100.000000\n",
      "TP_ST_CONCLUSAO           100.000000\n",
      "TP_ANO_CONCLUIU           100.000000\n",
      "TP_ESCOLA                 100.000000\n",
      "TP_ENSINO                  31.187181\n",
      "IN_TREINEIRO              100.000000\n",
      "TP_DEPENDENCIA_ADM_ESC     31.187181\n",
      "IN_BAIXA_VISAO            100.000000\n",
      "IN_CEGUEIRA               100.000000\n",
      "IN_SURDEZ                 100.000000\n",
      "IN_DISLEXIA               100.000000\n",
      "IN_DISCALCULIA            100.000000\n",
      "IN_SABATISTA              100.000000\n",
      "IN_GESTANTE               100.000000\n",
      "IN_IDOSO                  100.000000\n",
      "TP_PRESENCA_CN            100.000000\n",
      "TP_PRESENCA_CH            100.000000\n",
      "TP_PRESENCA_LC            100.000000\n",
      "NU_NOTA_CN                 75.316824\n",
      "NU_NOTA_CH                 75.316824\n",
      "NU_NOTA_LC                 73.801894\n",
      "TP_LINGUA                 100.000000\n",
      "TP_STATUS_REDACAO          73.801894\n",
      "NU_NOTA_COMP1              73.801894\n",
      "NU_NOTA_COMP2              73.801894\n",
      "NU_NOTA_COMP3              73.801894\n",
      "NU_NOTA_COMP4              73.801894\n",
      "NU_NOTA_COMP5              73.801894\n",
      "NU_NOTA_REDACAO            73.801894\n",
      "Q001                      100.000000\n",
      "Q002                      100.000000\n",
      "Q006                      100.000000\n",
      "Q024                      100.000000\n",
      "Q025                      100.000000\n",
      "Q026                      100.000000\n",
      "Q027                       46.300073\n",
      "Q047                      100.000000\n",
      "dtype: float64\n",
      "NU_NOTA_MT           100.0\n",
      "CO_UF_RESIDENCIA     100.0\n",
      "NU_IDADE             100.0\n",
      "TP_SEXO              100.0\n",
      "TP_COR_RACA          100.0\n",
      "TP_NACIONALIDADE     100.0\n",
      "TP_ST_CONCLUSAO      100.0\n",
      "TP_ANO_CONCLUIU      100.0\n",
      "TP_ESCOLA            100.0\n",
      "IN_TREINEIRO         100.0\n",
      "IN_BAIXA_VISAO       100.0\n",
      "IN_CEGUEIRA          100.0\n",
      "IN_SURDEZ            100.0\n",
      "IN_DISLEXIA          100.0\n",
      "IN_DISCALCULIA       100.0\n",
      "IN_SABATISTA         100.0\n",
      "IN_GESTANTE          100.0\n",
      "IN_IDOSO             100.0\n",
      "TP_PRESENCA_CN       100.0\n",
      "TP_PRESENCA_CH       100.0\n",
      "TP_PRESENCA_LC       100.0\n",
      "NU_NOTA_CN           100.0\n",
      "NU_NOTA_CH           100.0\n",
      "NU_NOTA_LC           100.0\n",
      "TP_LINGUA            100.0\n",
      "TP_STATUS_REDACAO    100.0\n",
      "NU_NOTA_COMP1        100.0\n",
      "NU_NOTA_COMP2        100.0\n",
      "NU_NOTA_COMP3        100.0\n",
      "NU_NOTA_COMP4        100.0\n",
      "NU_NOTA_COMP5        100.0\n",
      "NU_NOTA_REDACAO      100.0\n",
      "Q001                 100.0\n",
      "Q002                 100.0\n",
      "Q006                 100.0\n",
      "Q024                 100.0\n",
      "Q025                 100.0\n",
      "Q026                 100.0\n",
      "Q047                 100.0\n",
      "dtype: float64\n"
     ]
    }
   ],
   "source": [
    "# drop features with few values\n",
    "print(ds.count() / 13730 * 100)\n",
    "ds = ds.drop(['TP_ENSINO', 'TP_DEPENDENCIA_ADM_ESC', 'Q027'], axis=1)\n",
    "\n",
    "# drop indexes with NaN\n",
    "ds = ds.dropna()\n",
    "print(ds.count() / 10097 * 100)\n",
    "\n",
    "# drop features with no correlation\n",
    "# ds_corr = ds.corr()\n",
    "ds = ds.drop(\n",
    "    ['IN_CEGUEIRA', 'TP_PRESENCA_CN', 'TP_PRESENCA_CH', 'TP_PRESENCA_LC'],\n",
    "    axis=1)"
   ]
  },
  {
   "cell_type": "code",
   "execution_count": 39,
   "metadata": {},
   "outputs": [],
   "source": [
    "# drop features with low correlation\n",
    "# ds_corr = ds.corr()\n",
    "ds = ds.drop([\n",
    "    'NU_IDADE', 'TP_NACIONALIDADE', 'TP_ST_CONCLUSAO', 'TP_ANO_CONCLUIU',\n",
    "    'TP_ESCOLA', 'IN_TREINEIRO', 'IN_BAIXA_VISAO', 'IN_SURDEZ', 'IN_DISLEXIA',\n",
    "    'IN_DISCALCULIA', 'IN_SABATISTA', 'IN_GESTANTE', 'IN_IDOSO',\n",
    "    'TP_STATUS_REDACAO', 'Q026'\n",
    "],\n",
    "             axis=1)\n"
   ]
  },
  {
   "cell_type": "code",
   "execution_count": 40,
   "metadata": {},
   "outputs": [],
   "source": [
    "# drop features with low correlation\n",
    "# ds_corr = ds.corr()\n",
    "ds = ds.drop([\n",
    "    'CO_UF_RESIDENCIA', 'TP_SEXO', 'TP_COR_RACA'\n",
    "],\n",
    "             axis=1)\n"
   ]
  },
  {
   "cell_type": "code",
   "execution_count": 41,
   "metadata": {},
   "outputs": [],
   "source": [
    "# drop features with low correlation\n",
    "# ds_corr = ds.corr()\n",
    "ds = ds.drop([\n",
    "    'TP_LINGUA', 'Q001','Q002','Q025'\n",
    "],\n",
    "             axis=1)\n"
   ]
  },
  {
   "cell_type": "code",
   "execution_count": 42,
   "metadata": {},
   "outputs": [
    {
     "name": "stdout",
     "output_type": "stream",
     "text": [
      "                 NU_NOTA_MT  NU_NOTA_CN  NU_NOTA_CH  NU_NOTA_LC  \\\n",
      "NU_NOTA_MT         1.000000    0.584941    0.529594    0.492031   \n",
      "NU_NOTA_CN         0.584941    1.000000    0.611573    0.545667   \n",
      "NU_NOTA_CH         0.529594    0.611573    1.000000    0.692988   \n",
      "NU_NOTA_LC         0.492031    0.545667    0.692988    1.000000   \n",
      "NU_NOTA_COMP1      0.299811    0.357672    0.443809    0.431546   \n",
      "NU_NOTA_COMP2      0.335441    0.412894    0.488050    0.453135   \n",
      "NU_NOTA_COMP3      0.350556    0.429447    0.510452    0.475782   \n",
      "NU_NOTA_COMP4      0.342629    0.407747    0.488797    0.468100   \n",
      "NU_NOTA_COMP5      0.343998    0.416349    0.494798    0.443357   \n",
      "NU_NOTA_REDACAO    0.379891    0.459938    0.550582    0.513982   \n",
      "Q006               0.410169    0.398853    0.377580    0.357225   \n",
      "Q024               0.323617    0.313991    0.318816    0.320468   \n",
      "Q047               0.351553    0.378773    0.319009    0.292787   \n",
      "\n",
      "                 NU_NOTA_COMP1  NU_NOTA_COMP2  NU_NOTA_COMP3  NU_NOTA_COMP4  \\\n",
      "NU_NOTA_MT            0.299811       0.335441       0.350556       0.342629   \n",
      "NU_NOTA_CN            0.357672       0.412894       0.429447       0.407747   \n",
      "NU_NOTA_CH            0.443809       0.488050       0.510452       0.488797   \n",
      "NU_NOTA_LC            0.431546       0.453135       0.475782       0.468100   \n",
      "NU_NOTA_COMP1         1.000000       0.755549       0.758445       0.823696   \n",
      "NU_NOTA_COMP2         0.755549       1.000000       0.874899       0.807150   \n",
      "NU_NOTA_COMP3         0.758445       0.874899       1.000000       0.826533   \n",
      "NU_NOTA_COMP4         0.823696       0.807150       0.826533       1.000000   \n",
      "NU_NOTA_COMP5         0.557588       0.655358       0.663832       0.634410   \n",
      "NU_NOTA_REDACAO       0.862036       0.917915       0.925552       0.914132   \n",
      "Q006                  0.251711       0.272413       0.288912       0.283229   \n",
      "Q024                  0.212970       0.231159       0.240094       0.236251   \n",
      "Q047                  0.229894       0.267160       0.273379       0.257339   \n",
      "\n",
      "                 NU_NOTA_COMP5  NU_NOTA_REDACAO      Q006      Q024      Q047  \n",
      "NU_NOTA_MT            0.343998         0.379891  0.410169  0.323617  0.351553  \n",
      "NU_NOTA_CN            0.416349         0.459938  0.398853  0.313991  0.378773  \n",
      "NU_NOTA_CH            0.494798         0.550582  0.377580  0.318816  0.319009  \n",
      "NU_NOTA_LC            0.443357         0.513982  0.357225  0.320468  0.292787  \n",
      "NU_NOTA_COMP1         0.557588         0.862036  0.251711  0.212970  0.229894  \n",
      "NU_NOTA_COMP2         0.655358         0.917915  0.272413  0.231159  0.267160  \n",
      "NU_NOTA_COMP3         0.663832         0.925552  0.288912  0.240094  0.273379  \n",
      "NU_NOTA_COMP4         0.634410         0.914132  0.283229  0.236251  0.257339  \n",
      "NU_NOTA_COMP5         1.000000         0.816160  0.265145  0.212641  0.254342  \n",
      "NU_NOTA_REDACAO       0.816160         1.000000  0.308148  0.255894  0.290685  \n",
      "Q006                  0.265145         0.308148  1.000000  0.541639  0.496512  \n",
      "Q024                  0.212641         0.255894  0.541639  1.000000  0.327173  \n",
      "Q047                  0.254342         0.290685  0.496512  0.327173  1.000000  \n"
     ]
    }
   ],
   "source": [
    "ds_corr = ds.corr()\n",
    "print(ds_corr)"
   ]
  },
  {
   "cell_type": "code",
   "execution_count": 43,
   "metadata": {},
   "outputs": [
    {
     "data": {
      "image/png": "[encoded data removed]",
      "text/plain": [
       "<Figure size 432x288 with 2 Axes>"
      ]
     },
     "metadata": {
      "needs_background": "light"
     },
     "output_type": "display_data"
    }
   ],
   "source": [
    "\n",
    "# plt.matshow(ds.corr())\n",
    "sns.heatmap(ds_corr, annot=True)\n",
    "plt.show()"
   ]
  },
  {
   "cell_type": "code",
   "execution_count": 44,
   "metadata": {},
   "outputs": [
    {
     "data": {
      "text/plain": [
       "<matplotlib.collections.PathCollection at 0x7fd3e03bb1f0>"
      ]
     },
     "execution_count": 44,
     "metadata": {},
     "output_type": "execute_result"
    },
    {
     "data": {
      "image/png": "[encoded data removed]",
      "text/plain": [
       "<Figure size 432x288 with 1 Axes>"
      ]
     },
     "metadata": {
      "needs_background": "light"
     },
     "output_type": "display_data"
    }
   ],
   "source": [
    "plt.scatter(ds['NU_NOTA_COMP1'],ds['NU_NOTA_MT'],  color='blue')"
   ]
  },
  {
   "cell_type": "code",
   "execution_count": 45,
   "metadata": {},
   "outputs": [
    {
     "data": {
      "text/plain": [
       "<matplotlib.collections.PathCollection at 0x7fd3e0329190>"
      ]
     },
     "execution_count": 45,
     "metadata": {},
     "output_type": "execute_result"
    },
    {
     "data": {
      "image/png": "[encoded data removed]",
      "text/plain": [
       "<Figure size 432x288 with 1 Axes>"
      ]
     },
     "metadata": {
      "needs_background": "light"
     },
     "output_type": "display_data"
    }
   ],
   "source": [
    "plt.scatter(ds['NU_NOTA_COMP2'],ds['NU_NOTA_MT'],  color='blue')"
   ]
  },
  {
   "cell_type": "code",
   "execution_count": 46,
   "metadata": {},
   "outputs": [
    {
     "data": {
      "text/plain": [
       "<matplotlib.collections.PathCollection at 0x7fd3e02fc8b0>"
      ]
     },
     "execution_count": 46,
     "metadata": {},
     "output_type": "execute_result"
    },
    {
     "data": {
      "image/png": "[encoded data removed]",
      "text/plain": [
       "<Figure size 432x288 with 1 Axes>"
      ]
     },
     "metadata": {
      "needs_background": "light"
     },
     "output_type": "display_data"
    }
   ],
   "source": [
    "plt.scatter(ds['NU_NOTA_COMP4'],ds['NU_NOTA_MT'],  color='black')\n",
    "plt.scatter(ds['NU_NOTA_COMP2'],ds['NU_NOTA_MT'],  color='blue')\n"
   ]
  },
  {
   "cell_type": "code",
   "execution_count": 47,
   "metadata": {},
   "outputs": [
    {
     "data": {
      "text/plain": [
       "0        120.0\n",
       "1        140.0\n",
       "5        120.0\n",
       "6        100.0\n",
       "7        140.0\n",
       "         ...  \n",
       "13725    120.0\n",
       "13726    120.0\n",
       "13727    120.0\n",
       "13728    100.0\n",
       "13729    120.0\n",
       "Name: NU_NOTA_COMP1, Length: 10097, dtype: float64"
      ]
     },
     "execution_count": 47,
     "metadata": {},
     "output_type": "execute_result"
    },
    {
     "data": {
      "image/png": "[encoded data removed]",
      "text/plain": [
       "<Figure size 432x288 with 1 Axes>"
      ]
     },
     "metadata": {
      "needs_background": "light"
     },
     "output_type": "display_data"
    }
   ],
   "source": [
    "plt.scatter(ds['NU_NOTA_COMP1'],ds['NU_NOTA_MT'],  color='black')\n",
    "ds['NU_NOTA_COMP1']"
   ]
  },
  {
   "cell_type": "code",
   "execution_count": 48,
   "metadata": {},
   "outputs": [],
   "source": [
    "y = ds['NU_NOTA_MT']\n",
    "X = ds.drop('NU_NOTA_MT', axis=1)"
   ]
  },
  {
   "cell_type": "code",
   "execution_count": 49,
   "metadata": {},
   "outputs": [],
   "source": [
    "# Split the data into training/testing sets\n",
    "X_train, X_test, y_train, y_test = train_test_split(X, y, test_size=0.2, random_state=0)\n",
    "\n"
   ]
  },
  {
   "cell_type": "code",
   "execution_count": 55,
   "metadata": {},
   "outputs": [],
   "source": [
    "scaler = MinMaxScaler()\n",
    "\n",
    "X_train = scaler.fit_transform(X_train)\n",
    "X_test = scaler.fit_transform(X_test)"
   ]
  },
  {
   "cell_type": "code",
   "execution_count": 61,
   "metadata": {},
   "outputs": [
    {
     "data": {
      "text/plain": [
       "0.0"
      ]
     },
     "execution_count": 61,
     "metadata": {},
     "output_type": "execute_result"
    }
   ],
   "source": [
    "#y_train = scaler.fit_transform(y_train)\n",
    "#y_test = scaler.fit_transform(y_test)\n",
    "y_test.min()"
   ]
  },
  {
   "cell_type": "code",
   "execution_count": 56,
   "metadata": {},
   "outputs": [
    {
     "data": {
      "text/plain": [
       "LinearRegression(copy_X=True, fit_intercept=True, n_jobs=None, normalize=False)"
      ]
     },
     "execution_count": 56,
     "metadata": {},
     "output_type": "execute_result"
    }
   ],
   "source": [
    "\n",
    "# Create linear regression object\n",
    "lin_regr = linear_model.LinearRegression()\n",
    "\n",
    "\n",
    "# Train the model using the training sets\n",
    "lin_regr.fit(X_train, y_train)"
   ]
  },
  {
   "cell_type": "code",
   "execution_count": 57,
   "metadata": {},
   "outputs": [
    {
     "name": "stdout",
     "output_type": "stream",
     "text": [
      "Mean squared error: 6573.91\n",
      "Coefficient of determination: 0.34\n"
     ]
    }
   ],
   "source": [
    "# Make predictions using the testing set\n",
    "y_pred = lin_regr.predict(X_test)\n",
    "\n",
    "# The coefficients\n",
    "#print('Coefficients: \\n', lin_regr.coef_)\n",
    "# The mean squared error\n",
    "print('Mean squared error: %.2f'\n",
    "      % mean_squared_error(y_test, y_pred))\n",
    "# The coefficient of determination: 1 is perfect prediction\n",
    "print('Coefficient of determination: %.2f'\n",
    "      % r2_score(y_test, y_pred))"
   ]
  },
  {
   "cell_type": "code",
   "execution_count": 22,
   "metadata": {},
   "outputs": [
    {
     "data": {
      "image/png": "[encoded data removed]",
      "text/plain": [
       "<Figure size 432x288 with 1 Axes>"
      ]
     },
     "metadata": {
      "needs_background": "light"
     },
     "output_type": "display_data"
    }
   ],
   "source": [
    "# Plot outputs\n",
    "\n",
    "plt.scatter(y_pred,y_test,  color='black')\n",
    "#plt.plot(y_pred, color='blue')\n",
    "#y_test.plot(kind='line',y='NU_NOTA_MT',color='red')\n",
    "\n",
    "\n",
    "plt.show()"
   ]
  },
  {
   "cell_type": "code",
   "execution_count": 27,
   "metadata": {},
   "outputs": [
    {
     "data": {
      "text/plain": [
       "3607     -58.368369\n",
       "6080    -123.694470\n",
       "2844       4.670454\n",
       "10263    137.723901\n",
       "9314      52.687736\n",
       "            ...    \n",
       "11103    119.399975\n",
       "11247    -71.913202\n",
       "3831       3.863770\n",
       "2348     -58.872449\n",
       "7874     -52.785652\n",
       "Name: NU_NOTA_MT, Length: 2020, dtype: float64"
      ]
     },
     "execution_count": 27,
     "metadata": {},
     "output_type": "execute_result"
    }
   ],
   "source": [
    "y_pred - y_test"
   ]
  }
 ],
 "metadata": {
  "kernelspec": {
   "display_name": "Python 3",
   "language": "python",
   "name": "python3"
  },
  "language_info": {
   "codemirror_mode": {
    "name": "ipython",
    "version": 3
   },
   "file_extension": ".py",
   "mimetype": "text/x-python",
   "name": "python",
   "nbconvert_exporter": "python",
   "pygments_lexer": "ipython3",
   "version": "3.7.4"
  }
 },
 "nbformat": 4,
 "nbformat_minor": 4
}
